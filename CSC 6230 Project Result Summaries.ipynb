{
 "cells": [
  {
   "cell_type": "markdown",
   "id": "c2acd984",
   "metadata": {},
   "source": [
    "# Final Project Results Summary\n",
    "\n",
    "This notebook summarizes the final performance metrics from both traditional ML models and Deep Reinforcement Learning agents."
   ]
  },
  {
   "cell_type": "markdown",
   "id": "91c40ca4",
   "metadata": {},
   "source": [
    "## Traditional Models (GBM, DNN)\n",
    "These models were evaluated on Mean Squared Error (MSE) and R²."
   ]
  },
  {
   "cell_type": "code",
   "execution_count": 1,
   "id": "e2197d68",
   "metadata": {},
   "outputs": [
    {
     "data": {
      "text/html": [
       "<div>\n",
       "<style scoped>\n",
       "    .dataframe tbody tr th:only-of-type {\n",
       "        vertical-align: middle;\n",
       "    }\n",
       "\n",
       "    .dataframe tbody tr th {\n",
       "        vertical-align: top;\n",
       "    }\n",
       "\n",
       "    .dataframe thead th {\n",
       "        text-align: right;\n",
       "    }\n",
       "</style>\n",
       "<table border=\"1\" class=\"dataframe\">\n",
       "  <thead>\n",
       "    <tr style=\"text-align: right;\">\n",
       "      <th></th>\n",
       "      <th>MSE</th>\n",
       "      <th>R2</th>\n",
       "    </tr>\n",
       "  </thead>\n",
       "  <tbody>\n",
       "    <tr>\n",
       "      <th>GBM</th>\n",
       "      <td>5.59860</td>\n",
       "      <td>0.99775</td>\n",
       "    </tr>\n",
       "    <tr>\n",
       "      <th>DNN</th>\n",
       "      <td>485.60193</td>\n",
       "      <td>0.81890</td>\n",
       "    </tr>\n",
       "  </tbody>\n",
       "</table>\n",
       "</div>"
      ],
      "text/plain": [
       "           MSE       R2\n",
       "GBM    5.59860  0.99775\n",
       "DNN  485.60193  0.81890"
      ]
     },
     "execution_count": 1,
     "metadata": {},
     "output_type": "execute_result"
    }
   ],
   "source": [
    "import pandas as pd\n",
    "traditional_results = {'GBM': {'MSE': 5.5986, 'R2': 0.99775}, 'DNN': {'MSE': 485.60193, 'R2': 0.8189}}\n",
    "trad_df = pd.DataFrame(traditional_results).T\n",
    "trad_df"
   ]
  },
  {
   "cell_type": "markdown",
   "id": "ca630773",
   "metadata": {},
   "source": [
    "## DRL Agents (DQN, PPO, A2C)\n",
    "These models were evaluated on total cumulative reward over the episode."
   ]
  },
  {
   "cell_type": "code",
   "execution_count": 2,
   "id": "5051cfe9",
   "metadata": {},
   "outputs": [
    {
     "data": {
      "text/html": [
       "<div>\n",
       "<style scoped>\n",
       "    .dataframe tbody tr th:only-of-type {\n",
       "        vertical-align: middle;\n",
       "    }\n",
       "\n",
       "    .dataframe tbody tr th {\n",
       "        vertical-align: top;\n",
       "    }\n",
       "\n",
       "    .dataframe thead th {\n",
       "        text-align: right;\n",
       "    }\n",
       "</style>\n",
       "<table border=\"1\" class=\"dataframe\">\n",
       "  <thead>\n",
       "    <tr style=\"text-align: right;\">\n",
       "      <th></th>\n",
       "      <th>Total Reward</th>\n",
       "    </tr>\n",
       "  </thead>\n",
       "  <tbody>\n",
       "    <tr>\n",
       "      <th>DQN</th>\n",
       "      <td>15.84</td>\n",
       "    </tr>\n",
       "    <tr>\n",
       "      <th>PPO</th>\n",
       "      <td>65.76</td>\n",
       "    </tr>\n",
       "    <tr>\n",
       "      <th>A2C</th>\n",
       "      <td>161.04</td>\n",
       "    </tr>\n",
       "  </tbody>\n",
       "</table>\n",
       "</div>"
      ],
      "text/plain": [
       "     Total Reward\n",
       "DQN         15.84\n",
       "PPO         65.76\n",
       "A2C        161.04"
      ]
     },
     "execution_count": 2,
     "metadata": {},
     "output_type": "execute_result"
    }
   ],
   "source": [
    "drl_results = {'DQN': {'Total Reward': 15.84}, 'PPO': {'Total Reward': 65.76}, 'A2C': {'Total Reward': 161.04}}\n",
    "drl_df = pd.DataFrame(drl_results).T\n",
    "drl_df"
   ]
  },
  {
   "cell_type": "markdown",
   "id": "b0ea3c8b",
   "metadata": {},
   "source": [
    "\n",
    "## 📌 Summary & Interpretation\n",
    "\n",
    "- **GBM** achieved the highest prediction accuracy (R² ≈ 0.998), confirming its superiority for regression.\n",
    "- **DNN** lagged behind GBM in accuracy, but still performed reasonably well.\n",
    "- **A2C** delivered the highest cumulative reward among DRL models.\n",
    "- **PPO** showed moderate performance, while **DQN** had the lowest total reward.\n",
    "\n",
    "This concludes the project’s modeling and evaluation stage, consistent with the proposal’s goals.\n",
    "\n"
   ]
  }
 ],
 "metadata": {
  "kernelspec": {
   "display_name": "trading-ai",
   "language": "python",
   "name": "python3"
  },
  "language_info": {
   "codemirror_mode": {
    "name": "ipython",
    "version": 3
   },
   "file_extension": ".py",
   "mimetype": "text/x-python",
   "name": "python",
   "nbconvert_exporter": "python",
   "pygments_lexer": "ipython3",
   "version": "3.10.16"
  }
 },
 "nbformat": 4,
 "nbformat_minor": 5
}
